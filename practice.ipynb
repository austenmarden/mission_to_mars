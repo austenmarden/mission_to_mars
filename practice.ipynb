{
 "cells": [
  {
   "cell_type": "code",
   "execution_count": 1,
   "id": "ccc4fcbc",
   "metadata": {},
   "outputs": [],
   "source": [
    "from splinter import Browser\n",
    "from bs4 import BeautifulSoup as soup\n",
    "from webdriver_manager.chrome import ChromeDriverManager\n"
   ]
  },
  {
   "cell_type": "code",
   "execution_count": 2,
   "id": "c120f2de",
   "metadata": {},
   "outputs": [
    {
     "name": "stderr",
     "output_type": "stream",
     "text": [
      "[WDM] - \n",
      "\n",
      "[WDM] - ====== WebDriver manager ======\n",
      "[WDM] - Current google-chrome version is 94.0.4606\n",
      "[WDM] - Get LATEST driver version for 94.0.4606\n",
      "[WDM] - Driver [C:\\Users\\auste\\.wdm\\drivers\\chromedriver\\win32\\94.0.4606.61\\chromedriver.exe] found in cache\n"
     ]
    }
   ],
   "source": [
    "# Set up Splinter\n",
    "executable_path = {'executable_path': ChromeDriverManager().install()}\n",
    "browser = Browser('chrome', **executable_path, headless=False)\n"
   ]
  },
  {
   "cell_type": "code",
   "execution_count": 3,
   "id": "48569212",
   "metadata": {},
   "outputs": [],
   "source": [
    "# Visit the Quotes to Scrape site\n",
    "url = 'http://quotes.toscrape.com/'\n",
    "browser.visit(url)"
   ]
  },
  {
   "cell_type": "code",
   "execution_count": 4,
   "id": "758db53d",
   "metadata": {},
   "outputs": [],
   "source": [
    "# Parse the HTML\n",
    "html = browser.html\n",
    "html_soup = soup(html, 'html.parser')"
   ]
  },
  {
   "cell_type": "code",
   "execution_count": 5,
   "id": "28ad9c62",
   "metadata": {},
   "outputs": [
    {
     "data": {
      "text/plain": [
       "'Top Ten tags'"
      ]
     },
     "execution_count": 5,
     "metadata": {},
     "output_type": "execute_result"
    }
   ],
   "source": [
    "# Scrape the Title\n",
    "title = html_soup.find('h2').text\n",
    "title"
   ]
  },
  {
   "cell_type": "code",
   "execution_count": 6,
   "id": "25af7090",
   "metadata": {},
   "outputs": [
    {
     "name": "stdout",
     "output_type": "stream",
     "text": [
      "love\n",
      "inspirational\n",
      "life\n",
      "humor\n",
      "books\n",
      "reading\n",
      "friendship\n",
      "friends\n",
      "truth\n",
      "simile\n"
     ]
    }
   ],
   "source": [
    "# Scrape the top ten tags\n",
    "tag_box = html_soup.find('div', class_='tags-box')\n",
    "# tag_box\n",
    "tags = tag_box.find_all('a', class_='tag')\n",
    "\n",
    "for tag in tags:\n",
    "    word = tag.text\n",
    "    print(word)"
   ]
  },
  {
   "cell_type": "code",
   "execution_count": 7,
   "id": "2a381a28",
   "metadata": {},
   "outputs": [
    {
     "name": "stdout",
     "output_type": "stream",
     "text": [
      "page: 1 ----------\n",
      "“The world as we have created it is a process of our thinking. It cannot be changed without changing our thinking.”\n",
      "page: 1 ----------\n",
      "“It is our choices, Harry, that show what we truly are, far more than our abilities.”\n",
      "page: 1 ----------\n",
      "“There are only two ways to live your life. One is as though nothing is a miracle. The other is as though everything is a miracle.”\n",
      "page: 1 ----------\n",
      "“The person, be it gentleman or lady, who has not pleasure in a good novel, must be intolerably stupid.”\n",
      "page: 1 ----------\n",
      "“Imperfection is beauty, madness is genius and it's better to be absolutely ridiculous than absolutely boring.”\n",
      "page: 1 ----------\n",
      "“Try not to become a man of success. Rather become a man of value.”\n",
      "page: 1 ----------\n",
      "“It is better to be hated for what you are than to be loved for what you are not.”\n",
      "page: 1 ----------\n",
      "“I have not failed. I've just found 10,000 ways that won't work.”\n",
      "page: 1 ----------\n",
      "“A woman is like a tea bag; you never know how strong it is until it's in hot water.”\n",
      "page: 1 ----------\n",
      "“A day without sunshine is like, you know, night.”\n",
      "page: 2 ----------\n",
      "“The world as we have created it is a process of our thinking. It cannot be changed without changing our thinking.”\n",
      "page: 2 ----------\n",
      "“It is our choices, Harry, that show what we truly are, far more than our abilities.”\n",
      "page: 2 ----------\n",
      "“There are only two ways to live your life. One is as though nothing is a miracle. The other is as though everything is a miracle.”\n",
      "page: 2 ----------\n",
      "“The person, be it gentleman or lady, who has not pleasure in a good novel, must be intolerably stupid.”\n",
      "page: 2 ----------\n",
      "“Imperfection is beauty, madness is genius and it's better to be absolutely ridiculous than absolutely boring.”\n",
      "page: 2 ----------\n",
      "“Try not to become a man of success. Rather become a man of value.”\n",
      "page: 2 ----------\n",
      "“It is better to be hated for what you are than to be loved for what you are not.”\n",
      "page: 2 ----------\n",
      "“I have not failed. I've just found 10,000 ways that won't work.”\n",
      "page: 2 ----------\n",
      "“A woman is like a tea bag; you never know how strong it is until it's in hot water.”\n",
      "page: 2 ----------\n",
      "“A day without sunshine is like, you know, night.”\n",
      "page: 3 ----------\n",
      "“The world as we have created it is a process of our thinking. It cannot be changed without changing our thinking.”\n",
      "page: 3 ----------\n",
      "“It is our choices, Harry, that show what we truly are, far more than our abilities.”\n",
      "page: 3 ----------\n",
      "“There are only two ways to live your life. One is as though nothing is a miracle. The other is as though everything is a miracle.”\n",
      "page: 3 ----------\n",
      "“The person, be it gentleman or lady, who has not pleasure in a good novel, must be intolerably stupid.”\n",
      "page: 3 ----------\n",
      "“Imperfection is beauty, madness is genius and it's better to be absolutely ridiculous than absolutely boring.”\n",
      "page: 3 ----------\n",
      "“Try not to become a man of success. Rather become a man of value.”\n",
      "page: 3 ----------\n",
      "“It is better to be hated for what you are than to be loved for what you are not.”\n",
      "page: 3 ----------\n",
      "“I have not failed. I've just found 10,000 ways that won't work.”\n",
      "page: 3 ----------\n",
      "“A woman is like a tea bag; you never know how strong it is until it's in hot water.”\n",
      "page: 3 ----------\n",
      "“A day without sunshine is like, you know, night.”\n",
      "page: 4 ----------\n",
      "“The world as we have created it is a process of our thinking. It cannot be changed without changing our thinking.”\n",
      "page: 4 ----------\n",
      "“It is our choices, Harry, that show what we truly are, far more than our abilities.”\n",
      "page: 4 ----------\n",
      "“There are only two ways to live your life. One is as though nothing is a miracle. The other is as though everything is a miracle.”\n",
      "page: 4 ----------\n",
      "“The person, be it gentleman or lady, who has not pleasure in a good novel, must be intolerably stupid.”\n",
      "page: 4 ----------\n",
      "“Imperfection is beauty, madness is genius and it's better to be absolutely ridiculous than absolutely boring.”\n",
      "page: 4 ----------\n",
      "“Try not to become a man of success. Rather become a man of value.”\n",
      "page: 4 ----------\n",
      "“It is better to be hated for what you are than to be loved for what you are not.”\n",
      "page: 4 ----------\n",
      "“I have not failed. I've just found 10,000 ways that won't work.”\n",
      "page: 4 ----------\n",
      "“A woman is like a tea bag; you never know how strong it is until it's in hot water.”\n",
      "page: 4 ----------\n",
      "“A day without sunshine is like, you know, night.”\n",
      "page: 5 ----------\n",
      "“The world as we have created it is a process of our thinking. It cannot be changed without changing our thinking.”\n",
      "page: 5 ----------\n",
      "“It is our choices, Harry, that show what we truly are, far more than our abilities.”\n",
      "page: 5 ----------\n",
      "“There are only two ways to live your life. One is as though nothing is a miracle. The other is as though everything is a miracle.”\n",
      "page: 5 ----------\n",
      "“The person, be it gentleman or lady, who has not pleasure in a good novel, must be intolerably stupid.”\n",
      "page: 5 ----------\n",
      "“Imperfection is beauty, madness is genius and it's better to be absolutely ridiculous than absolutely boring.”\n",
      "page: 5 ----------\n",
      "“Try not to become a man of success. Rather become a man of value.”\n",
      "page: 5 ----------\n",
      "“It is better to be hated for what you are than to be loved for what you are not.”\n",
      "page: 5 ----------\n",
      "“I have not failed. I've just found 10,000 ways that won't work.”\n",
      "page: 5 ----------\n",
      "“A woman is like a tea bag; you never know how strong it is until it's in hot water.”\n",
      "page: 5 ----------\n",
      "“A day without sunshine is like, you know, night.”\n"
     ]
    }
   ],
   "source": [
    "for x in range(1, 6):\n",
    "   html = browser.html\n",
    "   quote_soup = soup(html, 'html.parser')\n",
    "   quotes = quote_soup.find_all('span', class_='text')\n",
    "   for quote in quotes:\n",
    "      print('page:', x, '----------')\n",
    "      print(quote.text)\n",
    "   #browser.links.find_by_partial_text('Next').click()"
   ]
  },
  {
   "cell_type": "code",
   "execution_count": 32,
   "id": "19c1cb45",
   "metadata": {},
   "outputs": [
    {
     "data": {
      "text/html": [
       "<style  type=\"text/css\" >\n",
       "#T_7fc9d_row0_col0,#T_7fc9d_row1_col0,#T_7fc9d_row2_col0,#T_7fc9d_row3_col0,#T_7fc9d_row4_col0,#T_7fc9d_row5_col0,#T_7fc9d_row6_col0,#T_7fc9d_row7_col0,#T_7fc9d_row8_col0,#T_7fc9d_row9_col0,#T_7fc9d_row10_col0,#T_7fc9d_row11_col0,#T_7fc9d_row12_col0,#T_7fc9d_row13_col0,#T_7fc9d_row14_col0,#T_7fc9d_row15_col0,#T_7fc9d_row16_col0,#T_7fc9d_row17_col0,#T_7fc9d_row18_col0,#T_7fc9d_row19_col0{\n",
       "            text-align:  left;\n",
       "        }</style><table id=\"T_7fc9d_\" ><thead>    <tr>        <th class=\"blank level0\" ></th>        <th class=\"col_heading level0 col0\" >book_url</th>    </tr></thead><tbody>\n",
       "                <tr>\n",
       "                        <th id=\"T_7fc9d_level0_row0\" class=\"row_heading level0 row0\" >0</th>\n",
       "                        <td id=\"T_7fc9d_row0_col0\" class=\"data row0 col0\" >http://books.toscrape.com/catalogue/a-light-in-the-attic_1000/index.html</td>\n",
       "            </tr>\n",
       "            <tr>\n",
       "                        <th id=\"T_7fc9d_level0_row1\" class=\"row_heading level0 row1\" >1</th>\n",
       "                        <td id=\"T_7fc9d_row1_col0\" class=\"data row1 col0\" >http://books.toscrape.com/catalogue/tipping-the-velvet_999/index.html</td>\n",
       "            </tr>\n",
       "            <tr>\n",
       "                        <th id=\"T_7fc9d_level0_row2\" class=\"row_heading level0 row2\" >2</th>\n",
       "                        <td id=\"T_7fc9d_row2_col0\" class=\"data row2 col0\" >http://books.toscrape.com/catalogue/soumission_998/index.html</td>\n",
       "            </tr>\n",
       "            <tr>\n",
       "                        <th id=\"T_7fc9d_level0_row3\" class=\"row_heading level0 row3\" >3</th>\n",
       "                        <td id=\"T_7fc9d_row3_col0\" class=\"data row3 col0\" >http://books.toscrape.com/catalogue/sharp-objects_997/index.html</td>\n",
       "            </tr>\n",
       "            <tr>\n",
       "                        <th id=\"T_7fc9d_level0_row4\" class=\"row_heading level0 row4\" >4</th>\n",
       "                        <td id=\"T_7fc9d_row4_col0\" class=\"data row4 col0\" >http://books.toscrape.com/catalogue/sapiens-a-brief-history-of-humankind_996/index.html</td>\n",
       "            </tr>\n",
       "            <tr>\n",
       "                        <th id=\"T_7fc9d_level0_row5\" class=\"row_heading level0 row5\" >5</th>\n",
       "                        <td id=\"T_7fc9d_row5_col0\" class=\"data row5 col0\" >http://books.toscrape.com/catalogue/the-requiem-red_995/index.html</td>\n",
       "            </tr>\n",
       "            <tr>\n",
       "                        <th id=\"T_7fc9d_level0_row6\" class=\"row_heading level0 row6\" >6</th>\n",
       "                        <td id=\"T_7fc9d_row6_col0\" class=\"data row6 col0\" >http://books.toscrape.com/catalogue/the-dirty-little-secrets-of-getting-your-dream-job_994/index.html</td>\n",
       "            </tr>\n",
       "            <tr>\n",
       "                        <th id=\"T_7fc9d_level0_row7\" class=\"row_heading level0 row7\" >7</th>\n",
       "                        <td id=\"T_7fc9d_row7_col0\" class=\"data row7 col0\" >http://books.toscrape.com/catalogue/the-coming-woman-a-novel-based-on-the-life-of-the-infamous-feminist-victoria-woodhull_993/index.html</td>\n",
       "            </tr>\n",
       "            <tr>\n",
       "                        <th id=\"T_7fc9d_level0_row8\" class=\"row_heading level0 row8\" >8</th>\n",
       "                        <td id=\"T_7fc9d_row8_col0\" class=\"data row8 col0\" >http://books.toscrape.com/catalogue/the-boys-in-the-boat-nine-americans-and-their-epic-quest-for-gold-at-the-1936-berlin-olympics_992/index.html</td>\n",
       "            </tr>\n",
       "            <tr>\n",
       "                        <th id=\"T_7fc9d_level0_row9\" class=\"row_heading level0 row9\" >9</th>\n",
       "                        <td id=\"T_7fc9d_row9_col0\" class=\"data row9 col0\" >http://books.toscrape.com/catalogue/the-black-maria_991/index.html</td>\n",
       "            </tr>\n",
       "            <tr>\n",
       "                        <th id=\"T_7fc9d_level0_row10\" class=\"row_heading level0 row10\" >10</th>\n",
       "                        <td id=\"T_7fc9d_row10_col0\" class=\"data row10 col0\" >http://books.toscrape.com/catalogue/starving-hearts-triangular-trade-trilogy-1_990/index.html</td>\n",
       "            </tr>\n",
       "            <tr>\n",
       "                        <th id=\"T_7fc9d_level0_row11\" class=\"row_heading level0 row11\" >11</th>\n",
       "                        <td id=\"T_7fc9d_row11_col0\" class=\"data row11 col0\" >http://books.toscrape.com/catalogue/shakespeares-sonnets_989/index.html</td>\n",
       "            </tr>\n",
       "            <tr>\n",
       "                        <th id=\"T_7fc9d_level0_row12\" class=\"row_heading level0 row12\" >12</th>\n",
       "                        <td id=\"T_7fc9d_row12_col0\" class=\"data row12 col0\" >http://books.toscrape.com/catalogue/set-me-free_988/index.html</td>\n",
       "            </tr>\n",
       "            <tr>\n",
       "                        <th id=\"T_7fc9d_level0_row13\" class=\"row_heading level0 row13\" >13</th>\n",
       "                        <td id=\"T_7fc9d_row13_col0\" class=\"data row13 col0\" >http://books.toscrape.com/catalogue/scott-pilgrims-precious-little-life-scott-pilgrim-1_987/index.html</td>\n",
       "            </tr>\n",
       "            <tr>\n",
       "                        <th id=\"T_7fc9d_level0_row14\" class=\"row_heading level0 row14\" >14</th>\n",
       "                        <td id=\"T_7fc9d_row14_col0\" class=\"data row14 col0\" >http://books.toscrape.com/catalogue/rip-it-up-and-start-again_986/index.html</td>\n",
       "            </tr>\n",
       "            <tr>\n",
       "                        <th id=\"T_7fc9d_level0_row15\" class=\"row_heading level0 row15\" >15</th>\n",
       "                        <td id=\"T_7fc9d_row15_col0\" class=\"data row15 col0\" >http://books.toscrape.com/catalogue/our-band-could-be-your-life-scenes-from-the-american-indie-underground-1981-1991_985/index.html</td>\n",
       "            </tr>\n",
       "            <tr>\n",
       "                        <th id=\"T_7fc9d_level0_row16\" class=\"row_heading level0 row16\" >16</th>\n",
       "                        <td id=\"T_7fc9d_row16_col0\" class=\"data row16 col0\" >http://books.toscrape.com/catalogue/olio_984/index.html</td>\n",
       "            </tr>\n",
       "            <tr>\n",
       "                        <th id=\"T_7fc9d_level0_row17\" class=\"row_heading level0 row17\" >17</th>\n",
       "                        <td id=\"T_7fc9d_row17_col0\" class=\"data row17 col0\" >http://books.toscrape.com/catalogue/mesaerion-the-best-science-fiction-stories-1800-1849_983/index.html</td>\n",
       "            </tr>\n",
       "            <tr>\n",
       "                        <th id=\"T_7fc9d_level0_row18\" class=\"row_heading level0 row18\" >18</th>\n",
       "                        <td id=\"T_7fc9d_row18_col0\" class=\"data row18 col0\" >http://books.toscrape.com/catalogue/libertarianism-for-beginners_982/index.html</td>\n",
       "            </tr>\n",
       "            <tr>\n",
       "                        <th id=\"T_7fc9d_level0_row19\" class=\"row_heading level0 row19\" >19</th>\n",
       "                        <td id=\"T_7fc9d_row19_col0\" class=\"data row19 col0\" >http://books.toscrape.com/catalogue/its-only-the-himalayas_981/index.html</td>\n",
       "            </tr>\n",
       "    </tbody></table>"
      ],
      "text/plain": [
       "<pandas.io.formats.style.Styler at 0x1b9b3617f08>"
      ]
     },
     "execution_count": 32,
     "metadata": {},
     "output_type": "execute_result"
    }
   ],
   "source": [
    "import pandas as pd\n",
    "\n",
    "url_list = []\n",
    "\n",
    "url = 'http://books.toscrape.com/'\n",
    "browser.visit(url)\n",
    "\n",
    "html = browser.html\n",
    "book_soup = soup(html, 'html.parser')     \n",
    "books = book_soup.find('ol', class_='row')\n",
    "ref = books.find_all('a', href=True)    \n",
    "for x in ref:\n",
    "    if 'http://books.toscrape.com/' + x['href'] not in url_list:\n",
    "        url_list.append('http://books.toscrape.com/' + x['href'])\n",
    "        \n",
    "url_df = pd.DataFrame(url_list, columns=['book_url'])\n",
    "pd.set_option('display.max_colwidth', None)\n",
    "url_df = url_df.style.set_properties(**{'text-align': 'left'})\n",
    "url_df"
   ]
  }
 ],
 "metadata": {
  "kernelspec": {
   "display_name": "PythonData",
   "language": "python",
   "name": "pythondata"
  },
  "language_info": {
   "codemirror_mode": {
    "name": "ipython",
    "version": 3
   },
   "file_extension": ".py",
   "mimetype": "text/x-python",
   "name": "python",
   "nbconvert_exporter": "python",
   "pygments_lexer": "ipython3",
   "version": "3.7.10"
  }
 },
 "nbformat": 4,
 "nbformat_minor": 5
}
